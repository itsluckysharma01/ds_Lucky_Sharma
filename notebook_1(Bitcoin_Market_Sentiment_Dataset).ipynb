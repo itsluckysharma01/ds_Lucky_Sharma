{
 "cells": [
  {
   "cell_type": "markdown",
   "id": "1af31f44",
   "metadata": {},
   "source": [
    "# Data Science Project - Main Analysis Notebook\n",
    "\n",
    "Welcome to the main data science analysis notebook! This notebook contains the complete workflow for our data science project.\n",
    "\n",
    "## Project Structure\n",
    "```\n",
    "ds_Lucky_Sharma/\n",
    "├── notebook_1.ipynb     # Main analysis notebook (this file)\n",
    "├── notebook_2.ipynb     # Additional analysis (optional)\n",
    "├── csv_files/           # Data storage directory\n",
    "├── outputs/             # Visualization outputs\n",
    "├── ds_report.pdf        # Final report\n",
    "└── README.md           # Project documentation\n",
    "```\n",
    "\n",
    "---"
   ]
  },
  {
   "cell_type": "markdown",
   "id": "5e60afe9",
   "metadata": {},
   "source": [
    "## 1. Import Required Libraries\n",
    "\n",
    "Let's start by importing all the necessary libraries for our data science project."
   ]
  },
  {
   "cell_type": "code",
   "execution_count": null,
   "id": "12631719",
   "metadata": {},
   "outputs": [],
   "source": [
    "# Import necessary libraries\n",
    "import os\n",
    "import pathlib\n",
    "import pandas as pd\n",
    "import numpy as np\n",
    "import matplotlib.pyplot as plt\n",
    "import seaborn as sns\n",
    "from pathlib import Path\n",
    "\n",
    "# Set up plotting style\n",
    "plt.style.use('default')\n",
    "sns.set_palette(\"husl\")\n",
    "\n",
    "print(\"All libraries imported successfully!\")\n",
    "print(f\"Working directory: {os.getcwd()}\")"
   ]
  },
  {
   "cell_type": "markdown",
   "id": "948902a7",
   "metadata": {},
   "source": [
    "## 2. Set Up Project Directory Paths\n",
    "\n",
    "Define and verify the project directory structure."
   ]
  },
  {
   "cell_type": "code",
   "execution_count": null,
   "id": "eb3e478f",
   "metadata": {},
   "outputs": [],
   "source": [
    "# Define project root directory\n",
    "PROJECT_ROOT = Path(r\"f:\\PROGRAMMING\\MY PROJECTS\\ALL_PROJECTS\\Data_Science_Internshala\\ds_Lucky_Sharma\")\n",
    "\n",
    "# Define subdirectories\n",
    "CSV_DIR = PROJECT_ROOT / \"csv_files\"\n",
    "OUTPUTS_DIR = PROJECT_ROOT / \"outputs\"\n",
    "\n",
    "# Verify root directory exists\n",
    "if PROJECT_ROOT.exists():\n",
    "    print(f\"✅ Project root directory exists: {PROJECT_ROOT}\")\n",
    "else:\n",
    "    print(f\"❌ Project root directory not found: {PROJECT_ROOT}\")\n",
    "\n",
    "# Display directory structure\n",
    "print(f\"\\nProject Structure:\")\n",
    "print(f\"Root: {PROJECT_ROOT}\")\n",
    "print(f\"├── csv_files/: {CSV_DIR}\")\n",
    "print(f\"└── outputs/: {OUTPUTS_DIR}\")"
   ]
  },
  {
   "cell_type": "markdown",
   "id": "2292a0a5",
   "metadata": {},
   "source": [
    "## 3. Data Loading and Exploration\n",
    "\n",
    "This section will contain your data loading and exploratory data analysis."
   ]
  },
  {
   "cell_type": "code",
   "execution_count": null,
   "id": "67052163",
   "metadata": {},
   "outputs": [],
   "source": [
    "# Load your dataset here\n",
    "# Example:\n",
    "# df = pd.read_csv(CSV_DIR / \"your_dataset.csv\")\n",
    "# print(f\"Dataset shape: {df.shape}\")\n",
    "# df.head()\n",
    "\n",
    "print(\"📊 Ready to load your dataset!\")\n",
    "print(f\"Place your CSV files in: {CSV_DIR}\")\n",
    "print(f\"Visualizations will be saved to: {OUTPUTS_DIR}\")"
   ]
  }
 ],
 "metadata": {
  "language_info": {
   "name": "python"
  }
 },
 "nbformat": 4,
 "nbformat_minor": 5
}
